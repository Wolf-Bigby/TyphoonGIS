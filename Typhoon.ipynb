{
 "cells": [
  {
   "cell_type": "code",
   "id": "initial_id",
   "metadata": {
    "collapsed": true,
    "ExecuteTime": {
     "end_time": "2024-07-29T02:37:03.038662Z",
     "start_time": "2024-07-29T02:37:03.028696Z"
    }
   },
   "source": [
    "import os\n",
    "import sys\n",
    "import pandas as pd\n",
    "from flask import Flask\n",
    "from flask_sqlalchemy import SQLAlchemy\n",
    "\n",
    "WIN = sys.platform.startswith('win')\n",
    "if WIN:  # 如果是 Windows 系统，使用三个斜线\n",
    "    prefix = 'sqlite:///'\n",
    "else:  # 否则使用四个斜线\n",
    "    prefix = 'sqlite:////'\n",
    "\n",
    "app = Flask(__name__)\n",
    "app.config['SQLALCHEMY_DATABASE_URI'] = prefix + os.path.join(app.root_path, 'data.db')\n",
    "app.config['SQLALCHEMY_TRACK_MODIFICATIONS'] = False  # 关闭对模型修改的监控\n",
    "# 在扩展类实例化前加载配置\n",
    "db = SQLAlchemy(app)"
   ],
   "outputs": [],
   "execution_count": 7
  },
  {
   "metadata": {
    "ExecuteTime": {
     "end_time": "2024-07-29T02:15:23.136923Z",
     "start_time": "2024-07-29T02:15:23.127953Z"
    }
   },
   "cell_type": "code",
   "source": [
    "class User(db.Model):  # 表名将会是 user（自动生成，小写处理）\n",
    "    id = db.Column(db.Integer, primary_key=True)  # 主键\n",
    "    name = db.Column(db.String(20))  # 名字\n",
    "class Movie(db.Model):  # 表名将会是 movie\n",
    "    id = db.Column(db.Integer, primary_key=True)  # 主键\n",
    "    title = db.Column(db.String(60))  # 电影标题\n",
    "    year = db.Column(db.String(4))  # 电影年份"
   ],
   "id": "6c1200fc3e1c5caf",
   "outputs": [],
   "execution_count": 6
  },
  {
   "metadata": {},
   "cell_type": "code",
   "outputs": [],
   "execution_count": null,
   "source": [
    "from app import db\n",
    "db.create_all()"
   ],
   "id": "167b8d51cd209396"
  },
  {
   "metadata": {
    "ExecuteTime": {
     "end_time": "2024-07-25T06:58:10.838647Z",
     "start_time": "2024-07-25T06:58:10.831166Z"
    }
   },
   "cell_type": "code",
   "source": [
    "data=pd.read_csv(r\"F:\\Desktop\\和鲸项目\\WebGIS\\typhoon\\typhoon\\typhoon2022.csv\")\n",
    "Typhoons=data[['name','ename','begin_time','end_time']].drop_duplicates()\n",
    "fields=Typhoons.columns.tolist()\n",
    "Typhoons=Typhoons.to_dict(orient='records')\n",
    "@app.route('/')\n",
    "def Typhoon():  # put application's code here\n",
    "    return render_template('index.html',Typhoons=Typhoons,fields=fields)\n",
    "    # return 'Hello Typhoon!'\n",
    "\n",
    "if __name__ == '__main__':\n",
    "    app.run()"
   ],
   "id": "307092d6107765d5",
   "outputs": [
    {
     "data": {
      "text/plain": [
       "[{'name': '马勒卡',\n",
       "  'ename': 'Malakas',\n",
       "  'begin_time': '2022-04-08T08:00:00',\n",
       "  'end_time': '2022-04-15T17:00:00'},\n",
       " {'name': '鲇鱼',\n",
       "  'ename': 'Megi',\n",
       "  'begin_time': '2022-04-10T08:00:00',\n",
       "  'end_time': '2022-04-12T17:00:00'},\n",
       " {'name': '暹芭',\n",
       "  'ename': 'Chaba',\n",
       "  'begin_time': '2022-06-30T08:00:00',\n",
       "  'end_time': '2022-07-04T05:00:00'},\n",
       " {'name': '艾利',\n",
       "  'ename': 'Aere',\n",
       "  'begin_time': '2022-07-01T08:00:00',\n",
       "  'end_time': '2022-07-05T08:00:00'},\n",
       " {'name': '桑达',\n",
       "  'ename': 'Songda',\n",
       "  'begin_time': '2022-07-28T20:00:00',\n",
       "  'end_time': '2022-08-02T05:00:00'},\n",
       " {'name': '翠丝',\n",
       "  'ename': 'Trases',\n",
       "  'begin_time': '2022-07-31T11:00:00',\n",
       "  'end_time': '2022-08-01T20:00:00'},\n",
       " {'name': '木兰',\n",
       "  'ename': 'MULAN',\n",
       "  'begin_time': '2022-08-09T10:00:00',\n",
       "  'end_time': '2022-08-11T05:00:00'},\n",
       " {'name': '米雷',\n",
       "  'ename': 'Meari',\n",
       "  'begin_time': '2022-08-12T02:00:00',\n",
       "  'end_time': '2022-08-14T08:00:00'},\n",
       " {'name': '马鞍',\n",
       "  'ename': 'MA-ON',\n",
       "  'begin_time': '2022-08-22T11:00:00',\n",
       "  'end_time': '2022-08-26T05:00:00'},\n",
       " {'name': '蝎虎',\n",
       "  'ename': 'Tokage',\n",
       "  'begin_time': '2022-08-22T11:00:00',\n",
       "  'end_time': '2022-08-25T20:00:00'},\n",
       " {'name': '轩岚诺',\n",
       "  'ename': 'Hinnamnor',\n",
       "  'begin_time': '2022-08-28T14:00:00',\n",
       "  'end_time': '2022-09-06T17:00:00'},\n",
       " {'name': '梅花',\n",
       "  'ename': 'Muifa',\n",
       "  'begin_time': '2022-09-08T08:00:00',\n",
       "  'end_time': '2022-09-16T19:00:00'},\n",
       " {'name': '苗柏',\n",
       "  'ename': 'Merbok',\n",
       "  'begin_time': '2022-09-12T08:00:00',\n",
       "  'end_time': '2022-09-15T08:00:00'},\n",
       " {'name': '南玛都',\n",
       "  'ename': 'Nanmadol',\n",
       "  'begin_time': '2022-09-14T02:00:00',\n",
       "  'end_time': '2022-09-20T05:00:00'},\n",
       " {'name': '塔拉斯',\n",
       "  'ename': 'TALAS',\n",
       "  'begin_time': '2022-09-23T08:00:00',\n",
       "  'end_time': '2022-09-24T05:00:00'},\n",
       " {'name': '奥鹿',\n",
       "  'ename': 'NORU',\n",
       "  'begin_time': '2022-09-23T14:00:00',\n",
       "  'end_time': '2022-09-28T17:00:00'},\n",
       " {'name': '玫瑰',\n",
       "  'ename': 'Kulap',\n",
       "  'begin_time': '2022-09-26T08:00:00',\n",
       "  'end_time': '2022-09-29T14:00:00'},\n",
       " {'name': '洛克',\n",
       "  'ename': 'ROKE',\n",
       "  'begin_time': '2022-09-28T20:00:00',\n",
       "  'end_time': '2022-10-02T02:00:00'},\n",
       " {'name': '桑卡',\n",
       "  'ename': 'SONCA',\n",
       "  'begin_time': '2022-10-14T14:00:00',\n",
       "  'end_time': '2022-10-15T05:00:00'},\n",
       " {'name': '纳沙',\n",
       "  'ename': 'NESAT',\n",
       "  'begin_time': '2022-10-15T14:00:00',\n",
       "  'end_time': '2022-10-20T05:00:00'},\n",
       " {'name': '海棠',\n",
       "  'ename': 'Haitang',\n",
       "  'begin_time': '2022-10-18T14:00:00',\n",
       "  'end_time': '2022-10-19T20:00:00'},\n",
       " {'name': '尼格',\n",
       "  'ename': 'Nalgae',\n",
       "  'begin_time': '2022-10-27T08:00:00',\n",
       "  'end_time': '2022-11-03T05:00:00'},\n",
       " {'name': '榕树',\n",
       "  'ename': 'Banyan',\n",
       "  'begin_time': '2022-10-31T11:00:00',\n",
       "  'end_time': '2022-11-01T05:00:00'},\n",
       " {'name': '山猫',\n",
       "  'ename': 'YAMANEKO',\n",
       "  'begin_time': '2022-11-12T20:00:00',\n",
       "  'end_time': '2022-11-14T08:00:00'},\n",
       " {'name': '帕卡',\n",
       "  'ename': 'Pakhar',\n",
       "  'begin_time': '2022-12-11T20:00:00',\n",
       "  'end_time': '2022-12-12T17:00:00'}]"
      ]
     },
     "execution_count": 23,
     "metadata": {},
     "output_type": "execute_result"
    }
   ],
   "execution_count": 23
  },
  {
   "metadata": {
    "ExecuteTime": {
     "end_time": "2024-08-15T07:33:40.377337Z",
     "start_time": "2024-08-15T07:33:40.357401Z"
    }
   },
   "cell_type": "code",
   "source": [
    "import os\n",
    "\n"
   ],
   "id": "bdccc5df940653f0",
   "outputs": [],
   "execution_count": 1
  },
  {
   "metadata": {
    "ExecuteTime": {
     "end_time": "2024-08-15T07:33:59.130830Z",
     "start_time": "2024-08-15T07:33:59.106910Z"
    }
   },
   "cell_type": "code",
   "source": "os.makedirs('tyhoonGIS',exist_ok=True)",
   "id": "2dda1e5d49b1868f",
   "outputs": [],
   "execution_count": 3
  },
  {
   "metadata": {
    "ExecuteTime": {
     "end_time": "2024-08-15T07:35:09.720103Z",
     "start_time": "2024-08-15T07:35:09.709139Z"
    }
   },
   "cell_type": "code",
   "source": "os.chdir('tyhoonGIS')",
   "id": "f3233ea50d336ab2",
   "outputs": [],
   "execution_count": 5
  },
  {
   "metadata": {},
   "cell_type": "code",
   "outputs": [],
   "execution_count": null,
   "source": "",
   "id": "9d173319cb021693"
  }
 ],
 "metadata": {
  "kernelspec": {
   "display_name": "Python 3",
   "language": "python",
   "name": "python3"
  },
  "language_info": {
   "codemirror_mode": {
    "name": "ipython",
    "version": 2
   },
   "file_extension": ".py",
   "mimetype": "text/x-python",
   "name": "python",
   "nbconvert_exporter": "python",
   "pygments_lexer": "ipython2",
   "version": "2.7.6"
  }
 },
 "nbformat": 4,
 "nbformat_minor": 5
}
